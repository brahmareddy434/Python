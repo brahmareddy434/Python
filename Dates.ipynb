{
 "cells": [
  {
   "cell_type": "markdown",
   "metadata": {},
   "source": [
    "# Python Datetime"
   ]
  },
  {
   "attachments": {},
   "cell_type": "markdown",
   "metadata": {},
   "source": [
    "A date in Python is not a data type of its own, but we can import a module named `datetime` to work with dates as date objects."
   ]
  },
  {
   "cell_type": "code",
   "execution_count": 1,
   "metadata": {},
   "outputs": [
    {
     "name": "stdout",
     "output_type": "stream",
     "text": [
      "2023-04-27 20:57:37.583020\n"
     ]
    }
   ],
   "source": [
    "import datetime\n",
    "\n",
    "x = datetime.datetime.now()\n",
    "print(x)"
   ]
  },
  {
   "cell_type": "markdown",
   "metadata": {},
   "source": [
    "# Date Output"
   ]
  },
  {
   "attachments": {},
   "cell_type": "markdown",
   "metadata": {},
   "source": [
    "When we execute the code from the example above the result will be:\n",
    "\n",
    "2023-04-27 20:55:05.227215\n",
    "The date contains year, month, day, hour, minute, second, and microsecond.\n",
    "\n",
    "The datetime module has many methods to return information about the date object.\n",
    "\n",
    "Here are a few examples, you will learn more about them later in this chapter:"
   ]
  },
  {
   "cell_type": "code",
   "execution_count": 2,
   "metadata": {},
   "outputs": [
    {
     "name": "stdout",
     "output_type": "stream",
     "text": [
      "2023\n",
      "Thursday\n"
     ]
    }
   ],
   "source": [
    "import datetime\n",
    "\n",
    "x = datetime.datetime.now()\n",
    "\n",
    "print(x.year)\n",
    "print(x.strftime(\"%A\"))"
   ]
  },
  {
   "attachments": {},
   "cell_type": "markdown",
   "metadata": {},
   "source": [
    "\n",
    "# Creating Date Objects"
   ]
  },
  {
   "attachments": {},
   "cell_type": "markdown",
   "metadata": {},
   "source": [
    "To create a date, we can use the `datetime()` class (constructor) of the `datetime` module."
   ]
  },
  {
   "attachments": {},
   "cell_type": "markdown",
   "metadata": {},
   "source": [
    "\n",
    "\n",
    "The datetime() class requires three parameters to create a date: year, month, day."
   ]
  },
  {
   "cell_type": "code",
   "execution_count": 3,
   "metadata": {},
   "outputs": [
    {
     "name": "stdout",
     "output_type": "stream",
     "text": [
      "2020-05-17 00:00:00\n"
     ]
    }
   ],
   "source": [
    "import datetime\n",
    "\n",
    "x = datetime.datetime(2020, 5, 17)\n",
    "\n",
    "print(x)"
   ]
  },
  {
   "cell_type": "markdown",
   "metadata": {},
   "source": [
    "The datetime() class also takes parameters for time and timezone (hour, minute, second, microsecond, tzone), but they are optional, and has a default value of 0, (None for timezone)."
   ]
  },
  {
   "attachments": {},
   "cell_type": "markdown",
   "metadata": {},
   "source": [
    "# The strftime() Method"
   ]
  },
  {
   "attachments": {},
   "cell_type": "markdown",
   "metadata": {},
   "source": [
    "The `datetime` object has a method for formatting date objects into readable strings.\n",
    "\n",
    "The method is called `strftime()`, and takes one parameter, format, to specify the format of the returned string:"
   ]
  },
  {
   "cell_type": "code",
   "execution_count": 4,
   "metadata": {},
   "outputs": [
    {
     "name": "stdout",
     "output_type": "stream",
     "text": [
      "June\n"
     ]
    }
   ],
   "source": [
    "import datetime\n",
    "\n",
    "x = datetime.datetime(2018, 6, 1)\n",
    "\n",
    "print(x.strftime(\"%B\"))\n"
   ]
  },
  {
   "cell_type": "markdown",
   "metadata": {},
   "source": [
    "A reference of all the legal format codes:"
   ]
  },
  {
   "attachments": {},
   "cell_type": "markdown",
   "metadata": {},
   "source": [
    "<table class=\"ws-table-all notranslate\">\n",
    "<tbody><tr>\n",
    "<th style=\"width:25%\">Directive</th>\n",
    "<th style=\"width:35%\">Description</th>\n",
    "<th style=\"width:30%\">Example</th>\n",
    "<th style=\"width:10%\">Try it</th>\n",
    "</tr>\n",
    "<tr>\n",
    "<td>%a</td>\n",
    "<td>Weekday, short version</td>\n",
    "<td>Wed</td>\n",
    "<td><a target=\"_blank\" class=\"w3-btn btnsmall btnsmall\" href=\"trypython.asp?filename=demo_datetime_strftime_a\">Try it »</a></td>\n",
    "</tr>\n",
    "<tr>\n",
    "<td>%A</td>\n",
    "<td>Weekday, full version</td>\n",
    "<td>Wednesday</td>\n",
    "<td><a target=\"_blank\" class=\"w3-btn btnsmall btnsmall\" href=\"trypython.asp?filename=demo_datetime_strftime_a2\">Try it »</a></td>\n",
    "</tr>\n",
    "<tr>\n",
    "<td>%w</td>\n",
    "<td>Weekday as a number 0-6, 0 is Sunday</td>\n",
    "<td>3</td>\n",
    "<td><a target=\"_blank\" class=\"w3-btn btnsmall btnsmall\" href=\"trypython.asp?filename=demo_datetime_strftime_w\">Try it »</a></td>\n",
    "</tr>\n",
    "<tr>\n",
    "<td>%d</td>\n",
    "<td>Day of month 01-31</td>\n",
    "<td>31</td>\n",
    "<td><a target=\"_blank\" class=\"w3-btn btnsmall btnsmall\" href=\"trypython.asp?filename=demo_datetime_strftime_d\">Try it »</a></td>\n",
    "</tr>\n",
    "<tr>\n",
    "<td>%b</td>\n",
    "<td>Month name, short version</td>\n",
    "<td>Dec</td>\n",
    "<td><a target=\"_blank\" class=\"w3-btn btnsmall btnsmall\" href=\"trypython.asp?filename=demo_datetime_strftime_b\">Try it »</a></td>\n",
    "</tr>\n",
    "<tr>\n",
    "<td>%B</td>\n",
    "<td>Month name, full version</td>\n",
    "<td>December</td>\n",
    "<td><a target=\"_blank\" class=\"w3-btn btnsmall btnsmall\" href=\"trypython.asp?filename=demo_datetime_strftime_b2\">Try it »</a></td>\n",
    "</tr>\n",
    "<tr>\n",
    "<td>%m</td>\n",
    "<td>Month as a number 01-12</td>\n",
    "<td>12</td>\n",
    "<td><a target=\"_blank\" class=\"w3-btn btnsmall btnsmall\" href=\"trypython.asp?filename=demo_datetime_strftime_m\">Try it »</a></td>\n",
    "</tr>\n",
    "<tr>\n",
    "<td>%y</td>\n",
    "<td>Year, short version, without century</td>\n",
    "<td>18</td>\n",
    "<td><a target=\"_blank\" class=\"w3-btn btnsmall btnsmall\" href=\"trypython.asp?filename=demo_datetime_strftime_y\">Try it »</a></td>\n",
    "</tr>\n",
    "<tr>\n",
    "<td>%Y</td>\n",
    "<td>Year, full version</td>\n",
    "<td>2018</td>\n",
    "<td><a target=\"_blank\" class=\"w3-btn btnsmall btnsmall\" href=\"trypython.asp?filename=demo_datetime_strftime_y2\">Try it »</a></td>\n",
    "</tr>\n",
    "<tr>\n",
    "<td>%H</td>\n",
    "<td>Hour 00-23</td>\n",
    "<td>17</td>\n",
    "<td><a target=\"_blank\" class=\"w3-btn btnsmall btnsmall\" href=\"trypython.asp?filename=demo_datetime_strftime_h2\">Try it »</a></td>\n",
    "</tr>\n",
    "<tr>\n",
    "<td>%I</td>\n",
    "<td>Hour 00-12</td>\n",
    "<td>05</td>\n",
    "<td><a target=\"_blank\" class=\"w3-btn btnsmall btnsmall\" href=\"trypython.asp?filename=demo_datetime_strftime_i2\">Try it »</a></td>\n",
    "</tr>\n",
    "<tr>\n",
    "<td>%p</td>\n",
    "<td>AM/PM</td>\n",
    "<td>PM</td>\n",
    "<td><a target=\"_blank\" class=\"w3-btn btnsmall btnsmall\" href=\"trypython.asp?filename=demo_datetime_strftime_p\">Try it »</a></td>\n",
    "</tr>\n",
    "<tr>\n",
    "<td>%M</td>\n",
    "<td>Minute 00-59</td>\n",
    "<td>41</td>\n",
    "<td><a target=\"_blank\" class=\"w3-btn btnsmall btnsmall\" href=\"trypython.asp?filename=demo_datetime_strftime_m2\">Try it »</a></td>\n",
    "</tr>\n",
    "<tr>\n",
    "<td>%S</td>\n",
    "<td>Second 00-59</td>\n",
    "<td>08</td>\n",
    "<td><a target=\"_blank\" class=\"w3-btn btnsmall btnsmall\" href=\"trypython.asp?filename=demo_datetime_strftime_s2\">Try it »</a></td>\n",
    "</tr>\n",
    "<tr>\n",
    "<td>%f</td>\n",
    "<td>Microsecond 000000-999999</td>\n",
    "<td>548513</td>\n",
    "<td><a target=\"_blank\" class=\"w3-btn btnsmall btnsmall\" href=\"trypython.asp?filename=demo_datetime_strftime_f\">Try it »</a></td>\n",
    "</tr>\n",
    "<tr>\n",
    "<td>%z</td>\n",
    "<td>UTC offset</td>\n",
    "<td>+0100</td>\n",
    "<td></td>\n",
    "</tr>\n",
    "<tr>\n",
    "<td>%Z</td>\n",
    "<td>Timezone</td>\n",
    "<td>CST</td>\n",
    "<td></td>\n",
    "</tr>\n",
    "<tr>\n",
    "<td>%j</td>\n",
    "<td>Day number of year 001-366</td>\n",
    "<td>365</td>\n",
    "<td><a target=\"_blank\" class=\"w3-btn btnsmall btnsmall\" href=\"trypython.asp?filename=demo_datetime_strftime_j\">Try it »</a></td>\n",
    "</tr>\n",
    "<tr>\n",
    "<td>%U</td>\n",
    "<td>Week number of year, Sunday as the first day of week, 00-53</td>\n",
    "<td>52</td>\n",
    "<td><a target=\"_blank\" class=\"w3-btn btnsmall btnsmall\" href=\"trypython.asp?filename=demo_datetime_strftime_u2\">Try it »</a></td>\n",
    "</tr>\n",
    "<tr>\n",
    "<td>%W</td>\n",
    "<td>Week number of year, Monday as the first day of week, 00-53</td>\n",
    "<td>52</td>\n",
    "<td><a target=\"_blank\" class=\"w3-btn btnsmall btnsmall\" href=\"trypython.asp?filename=demo_datetime_strftime_w2\">Try it »</a></td>\n",
    "</tr>\n",
    "<tr>\n",
    "<td>%c</td>\n",
    "<td>Local version of date and time</td>\n",
    "<td>Mon Dec 31 17:41:00 2018</td>\n",
    "<td><a target=\"_blank\" class=\"w3-btn btnsmall btnsmall\" href=\"trypython.asp?filename=demo_datetime_strftime_c\">Try it »</a></td>\n",
    "</tr>\n",
    "<tr>\n",
    "<td>%C</td>\n",
    "<td>Century</td>\n",
    "<td>20</td>\n",
    "<td><a target=\"_blank\" class=\"w3-btn btnsmall btnsmall\" href=\"trypython.asp?filename=demo_datetime_strftime_century\">Try it »</a></td>\n",
    "</tr>\n",
    "<tr>\n",
    "<td>%x</td>\n",
    "<td>Local version of date</td>\n",
    "<td>12/31/18</td>\n",
    "<td><a target=\"_blank\" class=\"w3-btn btnsmall btnsmall\" href=\"trypython.asp?filename=demo_datetime_strftime_x\">Try it »</a></td>\n",
    "</tr>\n",
    "<tr>\n",
    "<td>%X</td>\n",
    "<td>Local version of time</td>\n",
    "<td>17:41:00</td>\n",
    "<td><a target=\"_blank\" class=\"w3-btn btnsmall btnsmall\" href=\"trypython.asp?filename=demo_datetime_strftime_x2\">Try it »</a></td>\n",
    "</tr>\n",
    "<tr>\n",
    "<td>%%</td>\n",
    "<td>A % character</td>\n",
    "<td>%</td>\n",
    "<td><a target=\"_blank\" class=\"w3-btn btnsmall btnsmall\" href=\"trypython.asp?filename=demo_datetime_strftime_percent\">Try it »</a></td>\n",
    "</tr>\n",
    "<tr>\n",
    "<td>%G</td>\n",
    "<td>ISO 8601 year</td>\n",
    "<td>2018</td>\n",
    "<td><a target=\"_blank\" class=\"w3-btn btnsmall btnsmall\" href=\"trypython.asp?filename=demo_datetime_strftime_g\">Try it »</a></td>\n",
    "</tr>\n",
    "<tr>\n",
    "<td>%u</td>\n",
    "<td>ISO 8601 weekday (1-7)</td>\n",
    "<td>1</td>\n",
    "<td><a target=\"_blank\" class=\"w3-btn btnsmall btnsmall\" href=\"trypython.asp?filename=demo_datetime_strftime_u\">Try it »</a></td>\n",
    "</tr>\n",
    "<tr>\n",
    "<td>%V</td>\n",
    "<td>ISO 8601 weeknumber (01-53)</td>\n",
    "<td>01</td>\n",
    "<td><a target=\"_blank\" class=\"w3-btn btnsmall btnsmall\" href=\"trypython.asp?filename=demo_datetime_strftime_v\">Try it »</a></td>\n",
    "</tr>\n",
    "</tbody></table>"
   ]
  },
  {
   "cell_type": "markdown",
   "metadata": {},
   "source": []
  }
 ],
 "metadata": {
  "kernelspec": {
   "display_name": "env",
   "language": "python",
   "name": "python3"
  },
  "language_info": {
   "codemirror_mode": {
    "name": "ipython",
    "version": 3
   },
   "file_extension": ".py",
   "mimetype": "text/x-python",
   "name": "python",
   "nbconvert_exporter": "python",
   "pygments_lexer": "ipython3",
   "version": "3.11.3"
  },
  "orig_nbformat": 4
 },
 "nbformat": 4,
 "nbformat_minor": 2
}
