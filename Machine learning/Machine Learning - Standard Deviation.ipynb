{
 "cells": [
  {
   "attachments": {},
   "cell_type": "markdown",
   "metadata": {},
   "source": [
    "# What is Standard Deviation?\n",
    "Standard deviation is a number that describes how spread out the values are.\n",
    "\n",
    "A low standard deviation means that most of the numbers are close to the mean (average) value.\n",
    "\n",
    "A high standard deviation means that the values are spread out over a wider range.\n",
    "\n",
    "Example: This time we have registered the speed of 7 cars:"
   ]
  },
  {
   "attachments": {},
   "cell_type": "markdown",
   "metadata": {},
   "source": [
    "speed = [86,87,88,86,87,85,86]"
   ]
  },
  {
   "attachments": {},
   "cell_type": "markdown",
   "metadata": {},
   "source": [
    "The standard deviation is:\n",
    "\n",
    "0.9"
   ]
  },
  {
   "attachments": {},
   "cell_type": "markdown",
   "metadata": {},
   "source": [
    "Meaning that most of the values are within the range of 0.9 from the mean value, which is 86.4.\n",
    "\n",
    "Let us do the same with a selection of numbers with a wider range:\n",
    "\n",
    "speed = [32,111,138,28,59,77,97]\n",
    "\n",
    "The standard deviation is:\n",
    "\n",
    "37.85\n",
    "\n",
    "Meaning that most of the values are within the range of 37.85 from the mean value, which is 77.4.\n",
    "\n",
    "As you can see, a higher standard deviation indicates that the values are spread out over a wider range.\n",
    "\n",
    "The NumPy module has a method to calculate the standard deviation:"
   ]
  },
  {
   "cell_type": "code",
   "execution_count": 1,
   "metadata": {},
   "outputs": [
    {
     "name": "stdout",
     "output_type": "stream",
     "text": [
      "0.9035079029052513\n"
     ]
    }
   ],
   "source": [
    "import numpy\n",
    "\n",
    "speed = [86,87,88,86,87,85,86]\n",
    "\n",
    "x = numpy.std(speed)\n",
    "\n",
    "print(x)"
   ]
  },
  {
   "cell_type": "code",
   "execution_count": 2,
   "metadata": {},
   "outputs": [
    {
     "name": "stdout",
     "output_type": "stream",
     "text": [
      "37.84501153334721\n"
     ]
    }
   ],
   "source": [
    "import numpy\n",
    "\n",
    "speed = [32,111,138,28,59,77,97]\n",
    "\n",
    "x = numpy.std(speed)\n",
    "\n",
    "print(x)"
   ]
  },
  {
   "attachments": {},
   "cell_type": "markdown",
   "metadata": {},
   "source": [
    "# Variance\n",
    "Variance is another number that indicates how spread out the values are.\n",
    "\n",
    "In fact, if you take the square root of the variance, you get the standard deviation!\n",
    "\n",
    "Or the other way around, if you multiply the standard deviation by itself, you get the variance!\n",
    "\n",
    "To calculate the variance you have to do as follows:\n",
    "\n",
    "1. Find the mean:"
   ]
  },
  {
   "attachments": {},
   "cell_type": "markdown",
   "metadata": {},
   "source": [
    "(32+111+138+28+59+77+97) / 7 = 77.4"
   ]
  },
  {
   "attachments": {},
   "cell_type": "markdown",
   "metadata": {},
   "source": [
    "2. For each value: find the difference from the mean:"
   ]
  },
  {
   "attachments": {},
   "cell_type": "markdown",
   "metadata": {},
   "source": [
    "<p><code class=\"pythonHigh\"><span class=\"pythoncolor\" style=\"color:black\">&nbsp;<span class=\"pythonnumbercolor\" style=\"color:red\">32</span> - <span class=\"pythonnumbercolor\" style=\"color:red\">77.4</span> = -<span class=\"pythonnumbercolor\" style=\"color:red\">45.4</span><br><span class=\"pythonnumbercolor\" style=\"color:red\">111</span> - <span class=\"pythonnumbercolor\" style=\"color:red\">77.4</span> =&nbsp; <span class=\"pythonnumbercolor\" style=\"color:red\">33.6</span><br><span class=\"pythonnumbercolor\" style=\"color:red\">138</span> <span class=\"pythonnumbercolor\" style=\"color:red\">\n",
    "</span>  - <span class=\"pythonnumbercolor\" style=\"color:red\">77.4</span> =&nbsp; <span class=\"pythonnumbercolor\" style=\"color:red\">60.6</span><br>&nbsp;<span class=\"pythonnumbercolor\" style=\"color:red\">28</span> - <span class=\"pythonnumbercolor\" style=\"color:red\">77.4</span> = -<span class=\"pythonnumbercolor\" style=\"color:red\">49.4</span><br>&nbsp;<span class=\"pythonnumbercolor\" style=\"color:red\">59</span> - <span class=\"pythonnumbercolor\" style=\"color:red\">77.4</span> = -<span class=\"pythonnumbercolor\" style=\"color:red\">18.4</span><br>&nbsp;<span class=\"pythonnumbercolor\" style=\"color:red\">77</span> <span class=\"pythonnumbercolor\" style=\"color:red\">\n",
    "</span>  - <span class=\"pythonnumbercolor\" style=\"color:red\">77.4</span> = - <span class=\"pythonnumbercolor\" style=\"color:red\">0.4</span><br>&nbsp;<span class=\"pythonnumbercolor\" style=\"color:red\">97</span> - <span class=\"pythonnumbercolor\" style=\"color:red\">77.4</span> =&nbsp; <span class=\"pythonnumbercolor\" style=\"color:red\">19.6</span> </span></code></p>"
   ]
  },
  {
   "attachments": {},
   "cell_type": "markdown",
   "metadata": {},
   "source": [
    "3. For each difference: find the square value:\n",
    "<p>\n",
    "  <code class=\"pythonHigh\"><span class=\"pythoncolor\" style=\"color:black\">(-<span class=\"pythonnumbercolor\" style=\"color:red\">45.4</span>)<sup>2</sup> = <span class=\"pythonnumbercolor\" style=\"color:red\">2061.16</span>  </span></code><br>\n",
    "  <code class=\"pythonHigh\"><span class=\"pythoncolor\" style=\"color:black\">&nbsp;(<span class=\"pythonnumbercolor\" style=\"color:red\">33.6</span>)<sup>2</sup> = <span class=\"pythonnumbercolor\" style=\"color:red\">1128.96</span>  </span></code><br>\n",
    "  <code class=\"pythonHigh\"><span class=\"pythoncolor\" style=\"color:black\">&nbsp;(<span class=\"pythonnumbercolor\" style=\"color:red\">60.6</span>)<sup>2</sup> = <span class=\"pythonnumbercolor\" style=\"color:red\">3672.36</span>  </span></code><br>\n",
    "  <code class=\"pythonHigh\"><span class=\"pythoncolor\" style=\"color:black\">(-<span class=\"pythonnumbercolor\" style=\"color:red\">49.4</span>)<sup>2</sup> = <span class=\"pythonnumbercolor\" style=\"color:red\">2440.36</span> </span></code><br>\n",
    "  <code class=\"pythonHigh\"><span class=\"pythoncolor\" style=\"color:black\">(-<span class=\"pythonnumbercolor\" style=\"color:red\">18.4</span>)<sup>2</sup> =&nbsp; <span class=\"pythonnumbercolor\" style=\"color:red\">338.56</span> </span></code><br>\n",
    "  <code class=\"pythonHigh\"><span class=\"pythoncolor\" style=\"color:black\">(-&nbsp;<span class=\"pythonnumbercolor\" style=\"color:red\">0.4</span>)<sup>2</sup> =&nbsp;&nbsp;&nbsp; <span class=\"pythonnumbercolor\" style=\"color:red\">0.16</span> </span></code><br>\n",
    "  <code class=\"pythonHigh\"><span class=\"pythoncolor\" style=\"color:black\">&nbsp;(<span class=\"pythonnumbercolor\" style=\"color:red\">19.6</span>)<sup>2</sup> =&nbsp; <span class=\"pythonnumbercolor\" style=\"color:red\">384.16</span> </span></code><br>\n",
    "  </p>"
   ]
  },
  {
   "attachments": {},
   "cell_type": "markdown",
   "metadata": {},
   "source": [
    "4. The variance is the average number of these squared differences:\n",
    "\n",
    "(2061.16+1128.96+3672.36+2440.36+338.56+0.16+384.16) / 7 = 1432.2\n",
    "Luckily, NumPy has a method to calculate the variance:"
   ]
  },
  {
   "cell_type": "code",
   "execution_count": 3,
   "metadata": {},
   "outputs": [
    {
     "name": "stdout",
     "output_type": "stream",
     "text": [
      "1432.2448979591834\n"
     ]
    }
   ],
   "source": [
    "import numpy\n",
    "\n",
    "speed = [32,111,138,28,59,77,97]\n",
    "\n",
    "x = numpy.var(speed)\n",
    "\n",
    "print(x)"
   ]
  },
  {
   "attachments": {},
   "cell_type": "markdown",
   "metadata": {},
   "source": [
    "m\n",
    "# Standard Deviation\n",
    "As we have learned, the formula to find the standard deviation is the square root of the variance:\n",
    "\n",
    "√1432.25 = 37.85\n",
    "Or, as in the example from before, use the NumPy to calculate the standard deviation:"
   ]
  },
  {
   "cell_type": "code",
   "execution_count": 5,
   "metadata": {},
   "outputs": [
    {
     "name": "stdout",
     "output_type": "stream",
     "text": [
      "37.84501153334721\n"
     ]
    }
   ],
   "source": [
    "import numpy\n",
    "\n",
    "speed = [32,111,138,28,59,77,97]\n",
    "\n",
    "x = numpy.std(speed)\n",
    "\n",
    "print(x)"
   ]
  },
  {
   "attachments": {},
   "cell_type": "markdown",
   "metadata": {},
   "source": [
    "# Symbols\n",
    "Standard Deviation is often represented by the symbol Sigma: σ\n",
    "\n",
    "Variance is often represented by the symbol Sigma Squared: σ2\n",
    "\n",
    "Chapter Summary\n",
    "The Standard Deviation and Variance are terms that are often used in Machine Learning, so it is important to understand how to get them, and the concept behind them."
   ]
  },
  {
   "attachments": {},
   "cell_type": "markdown",
   "metadata": {},
   "source": []
  }
 ],
 "metadata": {
  "kernelspec": {
   "display_name": ".venv",
   "language": "python",
   "name": "python3"
  },
  "language_info": {
   "codemirror_mode": {
    "name": "ipython",
    "version": 3
   },
   "file_extension": ".py",
   "mimetype": "text/x-python",
   "name": "python",
   "nbconvert_exporter": "python",
   "pygments_lexer": "ipython3",
   "version": "3.11.3"
  },
  "orig_nbformat": 4
 },
 "nbformat": 4,
 "nbformat_minor": 2
}
