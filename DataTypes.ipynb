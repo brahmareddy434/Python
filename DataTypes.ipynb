{
 "cells": [
  {
   "attachments": {},
   "cell_type": "markdown",
   "metadata": {},
   "source": [
    "# Built-in Data Types"
   ]
  },
  {
   "attachments": {},
   "cell_type": "markdown",
   "metadata": {},
   "source": [
    "In programming, data type is an important concept.\n",
    "\n",
    "Variables can store data of different types, and different types can do different things.\n",
    "\n",
    "Python has the following data types built-in by default, in these categories:"
   ]
  },
  {
   "attachments": {},
   "cell_type": "markdown",
   "metadata": {},
   "source": [
    "<table class=\"w3-table\">\n",
    "  <tbody><tr>\n",
    "    <td style=\"width:160px;\">Text Type:</td>\n",
    "    <td><code class=\"w3-codespan\">str</code></td>\n",
    "  </tr>\n",
    "  <tr>\n",
    "    <td>Numeric Types:</td>\n",
    "    <td><code class=\"w3-codespan\">int</code>, <code class=\"w3-codespan\">float</code>,\n",
    "    <code class=\"w3-codespan\">complex</code></td>\n",
    "  </tr>\n",
    "  <tr>\n",
    "    <td>Sequence Types:</td>\n",
    "    <td><code class=\"w3-codespan\">list</code>, <code class=\"w3-codespan\">tuple</code>, \n",
    "    <code class=\"w3-codespan\">range</code></td>\n",
    "  </tr>\n",
    "  <tr>\n",
    "    <td>Mapping Type:</td>\n",
    "    <td><code class=\"w3-codespan\">dict</code></td>\n",
    "  </tr>\n",
    "  <tr>\n",
    "    <td>Set Types:</td>\n",
    "    <td><code class=\"w3-codespan\">set</code>, <code class=\"w3-codespan\">frozenset</code></td>\n",
    "  </tr>\n",
    "  <tr>\n",
    "    <td>Boolean Type:</td>\n",
    "    <td><code class=\"w3-codespan\">bool</code></td>\n",
    "  </tr>\n",
    "  <tr>\n",
    "    <td>Binary Types:</td>\n",
    "    <td><code class=\"w3-codespan\">bytes</code>, <code class=\"w3-codespan\">bytearray</code>, \n",
    "    <code class=\"w3-codespan\">memoryview</code></td>\n",
    "  </tr>\n",
    "  <tr>\n",
    "    <td>None Type:</td>\n",
    "    <td><code class=\"w3-codespan\">NoneType</code></td>\n",
    "  </tr>\n",
    "</tbody></table>"
   ]
  },
  {
   "attachments": {},
   "cell_type": "markdown",
   "metadata": {},
   "source": [
    "# Getting the Data Type"
   ]
  },
  {
   "attachments": {},
   "cell_type": "markdown",
   "metadata": {},
   "source": [
    "You can get the data type of any object by using the `type()` function:"
   ]
  },
  {
   "cell_type": "code",
   "execution_count": 1,
   "metadata": {},
   "outputs": [
    {
     "name": "stdout",
     "output_type": "stream",
     "text": [
      "<class 'int'>\n"
     ]
    }
   ],
   "source": [
    "x=143\n",
    "print(type(x))"
   ]
  },
  {
   "cell_type": "markdown",
   "metadata": {},
   "source": [
    "# Setting the Data Type"
   ]
  },
  {
   "cell_type": "markdown",
   "metadata": {},
   "source": [
    "In Python, the data type is set when you assign a value to a variable:"
   ]
  },
  {
   "attachments": {},
   "cell_type": "markdown",
   "metadata": {},
   "source": [
    "<table id=\"dtref\" class=\"ws-table-all notranslate\">\n",
    "<tbody><tr>\n",
    "<th style=\"min-width:350px\">Example</th>\n",
    "<th>Data Type</th>\n",
    "<th style=\"width:90px\">Try it</th>\n",
    "</tr>\n",
    "<tr>\n",
    "<td>x = \"Hello World\"</td>\n",
    "<td>str</td>\n",
    "<td><a target=\"_blank\" class=\"w3-btn btnsmall btnsmall\" href=\"trypython.asp?filename=demo_type_str\">Try it »</a></td>\n",
    "</tr>\n",
    "<tr>\n",
    "<td>x = 20</td>\n",
    "<td>int</td>\n",
    "<td><a target=\"_blank\" class=\"w3-btn btnsmall btnsmall\" href=\"trypython.asp?filename=demo_type_int\">Try it »</a></td>\n",
    "</tr>\n",
    "<tr>\n",
    "<td>x = 20.5</td>\n",
    "<td>float</td>\n",
    "<td><a target=\"_blank\" class=\"w3-btn btnsmall btnsmall\" href=\"trypython.asp?filename=demo_type_float\">Try it »</a></td>\n",
    "</tr>\n",
    "<tr>\n",
    "<td>x = 1j</td>\n",
    "<td>complex</td>\n",
    "<td><a target=\"_blank\" class=\"w3-btn btnsmall btnsmall\" href=\"trypython.asp?filename=demo_type_complex\">Try it »</a></td>\n",
    "</tr>\n",
    "<tr>\n",
    "<td>x = [\"apple\", \"banana\", \"cherry\"]</td>\n",
    "<td>list</td>\n",
    "<td><a target=\"_blank\" class=\"w3-btn btnsmall btnsmall\" href=\"trypython.asp?filename=demo_type_list\">Try it »</a></td>\n",
    "</tr>\n",
    "  <tr>\n",
    "<td>x = (\"apple\", \"banana\", \"cherry\")</td>\n",
    "<td>tuple</td>\n",
    "<td><a target=\"_blank\" class=\"w3-btn btnsmall btnsmall\" href=\"trypython.asp?filename=demo_type_tuple\">Try it »</a></td>\n",
    "  </tr>\n",
    "  <tr>\n",
    "<td>x = range(6)</td>\n",
    "<td>range</td>\n",
    "<td><a target=\"_blank\" class=\"w3-btn btnsmall btnsmall\" href=\"trypython.asp?filename=demo_type_range\">Try it »</a></td>\n",
    "  </tr>\n",
    "  <tr>\n",
    "<td>x = {\"name\" : \"John\", \"age\" : 36}</td>\n",
    "<td>dict</td>\n",
    "<td><a target=\"_blank\" class=\"w3-btn btnsmall btnsmall\" href=\"trypython.asp?filename=demo_type_dict\">Try it »</a></td>\n",
    "  </tr>\n",
    "  <tr>\n",
    "<td>x = {\"apple\", \"banana\", \"cherry\"}</td>\n",
    "<td>set</td>\n",
    "<td><a target=\"_blank\" class=\"w3-btn btnsmall btnsmall\" href=\"trypython.asp?filename=demo_type_set\">Try it »</a></td>\n",
    "  </tr>\n",
    "  <tr>\n",
    "<td>x = frozenset({\"apple\", \"banana\", \"cherry\"})</td>\n",
    "<td>frozenset</td>\n",
    "<td><a target=\"_blank\" class=\"w3-btn btnsmall btnsmall\" href=\"trypython.asp?filename=demo_type_frozenset\">Try it »</a></td>\n",
    "  </tr>\n",
    "  <tr>\n",
    "<td>x = True</td>\n",
    "<td>bool</td>\n",
    "<td><a target=\"_blank\" class=\"w3-btn btnsmall btnsmall\" href=\"trypython.asp?filename=demo_type_bool\">Try it »</a></td>\n",
    "  </tr>\n",
    "  <tr>\n",
    "<td>x = b\"Hello\"</td>\n",
    "<td>bytes</td>\n",
    "<td><a target=\"_blank\" class=\"w3-btn btnsmall btnsmall\" href=\"trypython.asp?filename=demo_type_bytes\">Try it »</a></td>\n",
    "  </tr>\n",
    "  <tr>\n",
    "<td>x = bytearray(5)</td>\n",
    "<td>bytearray</td>\n",
    "<td><a target=\"_blank\" class=\"w3-btn btnsmall btnsmall\" href=\"trypython.asp?filename=demo_type_bytearray\">Try it »</a></td>\n",
    "  </tr>\n",
    "<tr>\n",
    "<td>x = memoryview(bytes(5))</td>\n",
    "<td>memoryview</td>\n",
    "<td><a target=\"_blank\" class=\"w3-btn btnsmall btnsmall\" href=\"trypython.asp?filename=demo_type_memoryview\">Try it »</a></td>\n",
    "</tr>\n",
    "<tr>\n",
    "<td>x = None</td>\n",
    "<td>NoneType</td>\n",
    "<td><a target=\"_blank\" class=\"w3-btn btnsmall btnsmall\" href=\"trypython.asp?filename=demo_type_nonetype\">Try it »</a></td>\n",
    "</tr>\n",
    "</tbody></table>"
   ]
  },
  {
   "cell_type": "code",
   "execution_count": 4,
   "metadata": {},
   "outputs": [
    {
     "name": "stdout",
     "output_type": "stream",
     "text": [
      "Hello World\n",
      "<class 'str'>\n"
     ]
    }
   ],
   "source": [
    "x = \"Hello World\"\n",
    "print(x)\n",
    "print(type(x))"
   ]
  },
  {
   "cell_type": "code",
   "execution_count": 5,
   "metadata": {},
   "outputs": [
    {
     "name": "stdout",
     "output_type": "stream",
     "text": [
      "20\n",
      "<class 'int'>\n"
     ]
    }
   ],
   "source": [
    "x = 20\n",
    "print(x)\n",
    "print(type(x))"
   ]
  },
  {
   "cell_type": "code",
   "execution_count": 7,
   "metadata": {},
   "outputs": [
    {
     "name": "stdout",
     "output_type": "stream",
     "text": [
      "20.5\n",
      "<class 'float'>\n"
     ]
    }
   ],
   "source": [
    "x = 20.5\n",
    "print(x)\n",
    "print(type(x))"
   ]
  },
  {
   "cell_type": "code",
   "execution_count": 8,
   "metadata": {},
   "outputs": [
    {
     "name": "stdout",
     "output_type": "stream",
     "text": [
      "1j\n",
      "<class 'complex'>\n"
     ]
    }
   ],
   "source": [
    "x = 1j\n",
    "print(x)\n",
    "print(type(x))"
   ]
  },
  {
   "cell_type": "code",
   "execution_count": 9,
   "metadata": {},
   "outputs": [
    {
     "name": "stdout",
     "output_type": "stream",
     "text": [
      "{'name': 'John', 'age': 36}\n",
      "<class 'dict'>\n"
     ]
    }
   ],
   "source": [
    "x = {\"name\" : \"John\", \"age\" : 36}\n",
    "print(x)\n",
    "print(type(x))\n"
   ]
  },
  {
   "cell_type": "code",
   "execution_count": 11,
   "metadata": {},
   "outputs": [
    {
     "name": "stdout",
     "output_type": "stream",
     "text": [
      "{'cherry', 'banana', 'apple'}\n",
      "<class 'set'>\n"
     ]
    }
   ],
   "source": [
    "x = {\"apple\", \"banana\", \"cherry\"}\n",
    "print(x)\n",
    "print(type(x))"
   ]
  },
  {
   "cell_type": "code",
   "execution_count": 12,
   "metadata": {},
   "outputs": [
    {
     "name": "stdout",
     "output_type": "stream",
     "text": [
      "frozenset({'cherry', 'banana', 'apple'})\n",
      "<class 'frozenset'>\n"
     ]
    }
   ],
   "source": [
    "x = frozenset({\"apple\", \"banana\", \"cherry\"})\n",
    "print(x)\n",
    "print(type(x))"
   ]
  },
  {
   "cell_type": "code",
   "execution_count": 13,
   "metadata": {},
   "outputs": [
    {
     "name": "stdout",
     "output_type": "stream",
     "text": [
      "True\n",
      "<class 'bool'>\n"
     ]
    }
   ],
   "source": [
    "x = True\n",
    "print(x)\n",
    "print(type(x))"
   ]
  },
  {
   "cell_type": "code",
   "execution_count": 14,
   "metadata": {},
   "outputs": [
    {
     "name": "stdout",
     "output_type": "stream",
     "text": [
      "b'Hello'\n",
      "<class 'bytes'>\n"
     ]
    }
   ],
   "source": [
    "x = b\"Hello\"\n",
    "print(x)\n",
    "print(type(x))"
   ]
  },
  {
   "cell_type": "code",
   "execution_count": 15,
   "metadata": {},
   "outputs": [
    {
     "name": "stdout",
     "output_type": "stream",
     "text": [
      "range(0, 6)\n",
      "<class 'range'>\n"
     ]
    }
   ],
   "source": [
    "x=range(6)\n",
    "print(x)\n",
    "print(type(x))"
   ]
  },
  {
   "cell_type": "code",
   "execution_count": 16,
   "metadata": {},
   "outputs": [
    {
     "name": "stdout",
     "output_type": "stream",
     "text": [
      "bytearray(b'\\x00\\x00\\x00\\x00\\x00')\n",
      "<class 'bytearray'>\n"
     ]
    }
   ],
   "source": [
    "x = bytearray(5)\n",
    "print(x)\n",
    "print(type(x))"
   ]
  },
  {
   "cell_type": "code",
   "execution_count": 17,
   "metadata": {},
   "outputs": [
    {
     "name": "stdout",
     "output_type": "stream",
     "text": [
      "<memory at 0x000001C4482C7E80>\n",
      "<class 'memoryview'>\n"
     ]
    }
   ],
   "source": [
    "x = memoryview(bytes(5))\n",
    "print(x)\n",
    "print(type(x))"
   ]
  },
  {
   "cell_type": "code",
   "execution_count": 18,
   "metadata": {},
   "outputs": [
    {
     "name": "stdout",
     "output_type": "stream",
     "text": [
      "None\n",
      "<class 'NoneType'>\n"
     ]
    }
   ],
   "source": [
    "x = None\n",
    "print(x)\n",
    "print(type(x))"
   ]
  },
  {
   "attachments": {},
   "cell_type": "markdown",
   "metadata": {},
   "source": [
    "Setting the Specific Data Type"
   ]
  },
  {
   "attachments": {},
   "cell_type": "markdown",
   "metadata": {},
   "source": [
    "<table id=\"dtref\" class=\"ws-table-all notranslate\">\n",
    "<tbody><tr>\n",
    "<th style=\"min-width:350px\">Example</th>\n",
    "<th>Data Type</th>\n",
    "<th style=\"width:90px\">Try it</th>\n",
    "</tr>\n",
    "<tr>\n",
    "<td>x = str(\"Hello World\")</td>\n",
    "<td>str</td>\n",
    "<td><a target=\"_blank\" class=\"w3-btn btnsmall btnsmall\" href=\"trypython.asp?filename=demo_type_str2\">Try it »</a></td>\n",
    "</tr>\n",
    "<tr>\n",
    "<td>x = int(20)</td>\n",
    "<td>int</td>\n",
    "<td><a target=\"_blank\" class=\"w3-btn btnsmall btnsmall\" href=\"trypython.asp?filename=demo_type_int2\">Try it »</a></td>\n",
    "</tr>\n",
    "<tr>\n",
    "<td>x = float(20.5)</td>\n",
    "<td>float</td>\n",
    "<td><a target=\"_blank\" class=\"w3-btn btnsmall btnsmall\" href=\"trypython.asp?filename=demo_type_float2\">Try it »</a></td>\n",
    "</tr>\n",
    "<tr>\n",
    "<td>x = complex(1j)</td>\n",
    "<td>complex</td>\n",
    "<td><a target=\"_blank\" class=\"w3-btn btnsmall btnsmall\" href=\"trypython.asp?filename=demo_type_complex2\">Try it »</a></td>\n",
    "</tr>\n",
    "<tr>\n",
    "<td>x = list((\"apple\", \"banana\", \"cherry\"))</td>\n",
    "<td>list</td>\n",
    "<td><a target=\"_blank\" class=\"w3-btn btnsmall btnsmall\" href=\"trypython.asp?filename=demo_type_list2\">Try it »</a></td>\n",
    "</tr>\n",
    "  <tr>\n",
    "<td>x = tuple((\"apple\", \"banana\", \"cherry\"))</td>\n",
    "<td>tuple</td>\n",
    "<td><a target=\"_blank\" class=\"w3-btn btnsmall btnsmall\" href=\"trypython.asp?filename=demo_type_tuple2\">Try it »</a></td>\n",
    "  </tr>\n",
    "  <tr>\n",
    "<td>x = range(6)</td>\n",
    "<td>range</td>\n",
    "<td><a target=\"_blank\" class=\"w3-btn btnsmall btnsmall\" href=\"trypython.asp?filename=demo_type_range2\">Try it »</a></td>\n",
    "  </tr>\n",
    "  <tr>\n",
    "<td>x = dict(name=\"John\", age=36)</td>\n",
    "<td>dict</td>\n",
    "<td><a target=\"_blank\" class=\"w3-btn btnsmall btnsmall\" href=\"trypython.asp?filename=demo_type_dict2\">Try it »</a></td>\n",
    "  </tr>\n",
    "  <tr>\n",
    "<td>x = set((\"apple\", \"banana\", \"cherry\"))</td>\n",
    "<td>set</td>\n",
    "<td><a target=\"_blank\" class=\"w3-btn btnsmall btnsmall\" href=\"trypython.asp?filename=demo_type_set2\">Try it »</a></td>\n",
    "  </tr>\n",
    "  <tr>\n",
    "<td>x = frozenset((\"apple\", \"banana\", \"cherry\"))</td>\n",
    "<td>frozenset</td>\n",
    "<td><a target=\"_blank\" class=\"w3-btn btnsmall btnsmall\" href=\"trypython.asp?filename=demo_type_frozenset2\">Try it »</a></td>\n",
    "  </tr>\n",
    "  <tr>\n",
    "<td>x = bool(5)</td>\n",
    "<td>bool</td>\n",
    "<td><a target=\"_blank\" class=\"w3-btn btnsmall btnsmall\" href=\"trypython.asp?filename=demo_type_bool2\">Try it »</a></td>\n",
    "  </tr>\n",
    "  <tr>\n",
    "<td>x = bytes(5)</td>\n",
    "<td>bytes</td>\n",
    "<td><a target=\"_blank\" class=\"w3-btn btnsmall btnsmall\" href=\"trypython.asp?filename=demo_type_bytes2\">Try it »</a></td>\n",
    "  </tr>\n",
    "  <tr>\n",
    "<td>x = bytearray(5)</td>\n",
    "<td>bytearray</td>\n",
    "<td><a target=\"_blank\" class=\"w3-btn btnsmall btnsmall\" href=\"trypython.asp?filename=demo_type_bytearray2\">Try it »</a></td>\n",
    "  </tr>\n",
    "<tr>\n",
    "<td>x = memoryview(bytes(5))</td>\n",
    "<td>memoryview</td>\n",
    "<td><a target=\"_blank\" class=\"w3-btn btnsmall btnsmall\" href=\"trypython.asp?filename=demo_type_memoryview2\">Try it »</a></td>\n",
    "</tr>\n",
    "</tbody></table>"
   ]
  },
  {
   "cell_type": "markdown",
   "metadata": {},
   "source": []
  }
 ],
 "metadata": {
  "kernelspec": {
   "display_name": "env",
   "language": "python",
   "name": "python3"
  },
  "language_info": {
   "codemirror_mode": {
    "name": "ipython",
    "version": 3
   },
   "file_extension": ".py",
   "mimetype": "text/x-python",
   "name": "python",
   "nbconvert_exporter": "python",
   "pygments_lexer": "ipython3",
   "version": "3.11.3"
  },
  "orig_nbformat": 4
 },
 "nbformat": 4,
 "nbformat_minor": 2
}
